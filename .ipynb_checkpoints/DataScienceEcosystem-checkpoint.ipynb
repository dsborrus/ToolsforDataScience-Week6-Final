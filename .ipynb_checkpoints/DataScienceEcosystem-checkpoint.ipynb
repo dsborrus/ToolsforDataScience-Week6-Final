{
 "cells": [
  {
   "cell_type": "markdown",
   "id": "8effab0d-133a-4e2e-8dd2-5cd439dc28d4",
   "metadata": {},
   "source": [
    "# Data Science Tools and Ecosystem"
   ]
  },
  {
   "cell_type": "markdown",
   "id": "2d7ba098-db27-40cb-ae5e-9259e6e1dc65",
   "metadata": {
    "tags": []
   },
   "source": [
    "In this notebook, Data Science Tools and Ecosystem are summarized."
   ]
  },
  {
   "cell_type": "markdown",
   "id": "23692c98-0204-4079-8bb6-f81079f65aab",
   "metadata": {
    "tags": []
   },
   "source": [
    "Some of the popular languages that Data Scientists use are:\n",
    "1. Python\n",
    "2. R\n",
    "3. SQL"
   ]
  },
  {
   "cell_type": "markdown",
   "id": "c33d2671-5e12-4a17-b6fe-46966604a27f",
   "metadata": {},
   "source": [
    "Some of the commonly used libraries used by Data Scientists include:\n",
    "1. Numpy\n",
    "2. Pandas\n",
    "3. Matplotlib"
   ]
  },
  {
   "cell_type": "markdown",
   "id": "705d9ec2-7a2b-4be6-8965-b64bd8dc2dfc",
   "metadata": {},
   "source": [
    "| Data Science Tools |\n",
    "|-------------|\n",
    "| Jupyter Notebook |\n",
    "| RStudio |\n",
    "| Tableau|\n"
   ]
  },
  {
   "cell_type": "markdown",
   "id": "f52d6d42-50fb-424b-a830-48fef402a3ea",
   "metadata": {},
   "source": [
    "### Below are a few examples of evaluating arithmetic expressions in Python"
   ]
  },
  {
   "cell_type": "code",
   "execution_count": 5,
   "id": "f15bf50e-ba8c-4800-a47b-f998d576f3ca",
   "metadata": {
    "tags": []
   },
   "outputs": [],
   "source": [
    "#This a simple arithmetic expression to mutiply then add integers."
   ]
  }
 ],
 "metadata": {
  "kernelspec": {
   "display_name": "Python 3 (ipykernel)",
   "language": "python",
   "name": "python3"
  },
  "language_info": {
   "codemirror_mode": {
    "name": "ipython",
    "version": 3
   },
   "file_extension": ".py",
   "mimetype": "text/x-python",
   "name": "python",
   "nbconvert_exporter": "python",
   "pygments_lexer": "ipython3",
   "version": "3.11.3"
  }
 },
 "nbformat": 4,
 "nbformat_minor": 5
}
